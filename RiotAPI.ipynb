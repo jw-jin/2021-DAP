{
  "nbformat": 4,
  "nbformat_minor": 0,
  "metadata": {
    "colab": {
      "name": "RiotAPI.ipynb",
      "provenance": [],
      "collapsed_sections": [],
      "authorship_tag": "ABX9TyOwszAA1btlhm54oW0y3bfk",
      "include_colab_link": true
    },
    "kernelspec": {
      "name": "python3",
      "display_name": "Python 3"
    },
    "language_info": {
      "name": "python"
    }
  },
  "cells": [
    {
      "cell_type": "markdown",
      "metadata": {
        "id": "view-in-github",
        "colab_type": "text"
      },
      "source": [
        "<a href=\"https://colab.research.google.com/github/jw-jin/2021-DAP/blob/main/RiotAPI.ipynb\" target=\"_parent\"><img src=\"https://colab.research.google.com/assets/colab-badge.svg\" alt=\"Open In Colab\"/></a>"
      ]
    },
    {
      "cell_type": "code",
      "execution_count": 2,
      "metadata": {
        "colab": {
          "base_uri": "https://localhost:8080/"
        },
        "id": "BNJc6RxnKnpw",
        "outputId": "e3a892e4-33ba-4c8e-d83a-d0ada5debde7"
      },
      "outputs": [
        {
          "output_type": "stream",
          "name": "stdout",
          "text": [
            "Mounted at /content/drive\n"
          ]
        }
      ],
      "source": [
        "from google.colab import drive # 구글 드라이브에서 파일 불러오기\n",
        "drive.mount('/content/drive')\n"
      ]
    },
    {
      "cell_type": "code",
      "source": [
        "import pandas as pd\n",
        "\n",
        "# 드라이브 경로 설정\n",
        "ch_data_path = '/content/drive/MyDrive/ch_matchdata.csv' # 챌린저 매치데이터 파일 경로\n",
        "gm_data_path = '/content/drive/MyDrive/gm_matchdata.csv' # 그랜드마스터 매치데이터 파일 경로\n",
        "m_data_path = '/content/drive/MyDrive/m_matchdata.csv' # 마스터 매치데이터 파일 경로\n",
        "\n",
        "# csv 불러오기\n",
        "ch_data = pd.read_csv(ch_data_path, encoding= 'cp949')\n",
        "gm_data = pd.read_csv(gm_data_path, encoding= 'cp949')\n",
        "m_data = pd.read_csv(m_data_path, encoding= 'cp949')"
      ],
      "metadata": {
        "id": "KYq9_XqhODRQ"
      },
      "execution_count": 6,
      "outputs": []
    },
    {
      "cell_type": "code",
      "source": [
        "c_df = ch_data\n",
        "\n",
        "champion_df = c_df.loc[:,['championId', 'championName']]\n",
        "champion_df = champion_df.drop_duplicates() # 중복제거\n",
        "champion_df = champion_df.sort_values('championId') # championid 순 정렬\n",
        "\n",
        "id_list = champion_df['championId'].tolist()\n",
        "id_dict = champion_df.set_index('championId').T.to_dict('list')\n",
        "win_df = pd.DataFrame(columns=['championId','championName', 'winrate', 'loserate'])\n",
        "\n",
        "for key,value in id_dict.items(): # key = id value = name\n",
        "  tmp_df = c_df[c_df['championId'] == key] \n",
        "  win_count = tmp_df['win'].value_counts(normalize=True)\n",
        "  data = {\n",
        "      'championId' : key,\n",
        "      'championName' : value[0],\n",
        "      'winrate' : win_count[1],\n",
        "      'loserate' : win_count[0] \n",
        "  }\n",
        "  win_df = win_df.append(data,ignore_index=True)\n",
        "\n",
        "win_df\n"
      ],
      "metadata": {
        "colab": {
          "base_uri": "https://localhost:8080/",
          "height": 424
        },
        "id": "5XJUu2oSPKLv",
        "outputId": "9d57b661-b7ab-49ec-f362-283ff3d26091"
      },
      "execution_count": 65,
      "outputs": [
        {
          "output_type": "execute_result",
          "data": {
            "text/html": [
              "<div>\n",
              "<style scoped>\n",
              "    .dataframe tbody tr th:only-of-type {\n",
              "        vertical-align: middle;\n",
              "    }\n",
              "\n",
              "    .dataframe tbody tr th {\n",
              "        vertical-align: top;\n",
              "    }\n",
              "\n",
              "    .dataframe thead th {\n",
              "        text-align: right;\n",
              "    }\n",
              "</style>\n",
              "<table border=\"1\" class=\"dataframe\">\n",
              "  <thead>\n",
              "    <tr style=\"text-align: right;\">\n",
              "      <th></th>\n",
              "      <th>championId</th>\n",
              "      <th>championName</th>\n",
              "      <th>winrate</th>\n",
              "      <th>loserate</th>\n",
              "    </tr>\n",
              "  </thead>\n",
              "  <tbody>\n",
              "    <tr>\n",
              "      <th>0</th>\n",
              "      <td>1</td>\n",
              "      <td>Annie</td>\n",
              "      <td>0.405405</td>\n",
              "      <td>0.594595</td>\n",
              "    </tr>\n",
              "    <tr>\n",
              "      <th>1</th>\n",
              "      <td>2</td>\n",
              "      <td>Olaf</td>\n",
              "      <td>0.544803</td>\n",
              "      <td>0.455197</td>\n",
              "    </tr>\n",
              "    <tr>\n",
              "      <th>2</th>\n",
              "      <td>3</td>\n",
              "      <td>Galio</td>\n",
              "      <td>0.502357</td>\n",
              "      <td>0.497643</td>\n",
              "    </tr>\n",
              "    <tr>\n",
              "      <th>3</th>\n",
              "      <td>4</td>\n",
              "      <td>TwistedFate</td>\n",
              "      <td>0.505515</td>\n",
              "      <td>0.494485</td>\n",
              "    </tr>\n",
              "    <tr>\n",
              "      <th>4</th>\n",
              "      <td>5</td>\n",
              "      <td>XinZhao</td>\n",
              "      <td>0.523975</td>\n",
              "      <td>0.476025</td>\n",
              "    </tr>\n",
              "    <tr>\n",
              "      <th>...</th>\n",
              "      <td>...</td>\n",
              "      <td>...</td>\n",
              "      <td>...</td>\n",
              "      <td>...</td>\n",
              "    </tr>\n",
              "    <tr>\n",
              "      <th>152</th>\n",
              "      <td>711</td>\n",
              "      <td>Vex</td>\n",
              "      <td>0.518000</td>\n",
              "      <td>0.482000</td>\n",
              "    </tr>\n",
              "    <tr>\n",
              "      <th>153</th>\n",
              "      <td>777</td>\n",
              "      <td>Yone</td>\n",
              "      <td>0.493834</td>\n",
              "      <td>0.506166</td>\n",
              "    </tr>\n",
              "    <tr>\n",
              "      <th>154</th>\n",
              "      <td>875</td>\n",
              "      <td>Sett</td>\n",
              "      <td>0.487689</td>\n",
              "      <td>0.512311</td>\n",
              "    </tr>\n",
              "    <tr>\n",
              "      <th>155</th>\n",
              "      <td>876</td>\n",
              "      <td>Lillia</td>\n",
              "      <td>0.467890</td>\n",
              "      <td>0.532110</td>\n",
              "    </tr>\n",
              "    <tr>\n",
              "      <th>156</th>\n",
              "      <td>887</td>\n",
              "      <td>Gwen</td>\n",
              "      <td>0.498815</td>\n",
              "      <td>0.501185</td>\n",
              "    </tr>\n",
              "  </tbody>\n",
              "</table>\n",
              "<p>157 rows × 4 columns</p>\n",
              "</div>"
            ],
            "text/plain": [
              "    championId championName   winrate  loserate\n",
              "0            1        Annie  0.405405  0.594595\n",
              "1            2         Olaf  0.544803  0.455197\n",
              "2            3        Galio  0.502357  0.497643\n",
              "3            4  TwistedFate  0.505515  0.494485\n",
              "4            5      XinZhao  0.523975  0.476025\n",
              "..         ...          ...       ...       ...\n",
              "152        711          Vex  0.518000  0.482000\n",
              "153        777         Yone  0.493834  0.506166\n",
              "154        875         Sett  0.487689  0.512311\n",
              "155        876       Lillia  0.467890  0.532110\n",
              "156        887         Gwen  0.498815  0.501185\n",
              "\n",
              "[157 rows x 4 columns]"
            ]
          },
          "metadata": {},
          "execution_count": 65
        }
      ]
    },
    {
      "cell_type": "code",
      "source": [
        ""
      ],
      "metadata": {
        "id": "U5upBJDTCe0o"
      },
      "execution_count": null,
      "outputs": []
    }
  ]
}